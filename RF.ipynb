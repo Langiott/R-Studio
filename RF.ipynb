{
 "cells": [
  {
   "cell_type": "code",
   "execution_count": 2,
   "metadata": {},
   "outputs": [
    {
     "ename": "NameError",
     "evalue": "name 'library' is not defined",
     "output_type": "error",
     "traceback": [
      "\u001b[1;31m---------------------------------------------------------------------------\u001b[0m",
      "\u001b[1;31mNameError\u001b[0m                                 Traceback (most recent call last)",
      "Cell \u001b[1;32mIn [2], line 1\u001b[0m\n\u001b[1;32m----> 1\u001b[0m library(raster)\n\u001b[0;32m      2\u001b[0m library(caret)\n\u001b[0;32m      3\u001b[0m library(randomForest)\n",
      "\u001b[1;31mNameError\u001b[0m: name 'library' is not defined"
     ]
    }
   ],
   "source": [
    "library(raster)\n",
    "library(caret)\n",
    "library(randomForest)"
   ]
  },
  {
   "cell_type": "code",
   "execution_count": null,
   "metadata": {},
   "outputs": [],
   "source": [
    "set.seed(1000)\n",
    "RD.files <- './Data/Reference_Data.shp'\n",
    "RD <- shapefile(RD.files)\n",
    "\n",
    "data.folder <- './Data/Predictors'\n",
    "\n",
    "file.names <- list.files(data.folder, pattern='f_') \n",
    "file.paths <- paste(data.folder, file.names, sep=\"/\")\n",
    "\n",
    "\n",
    "predictors <- stack(file.paths)\n",
    "crs(predictors) <- crs(RD)"
   ]
  },
  {
   "cell_type": "code",
   "execution_count": null,
   "metadata": {},
   "outputs": [],
   "source": [
    "\n",
    "pred.val <- extract(predictors,RD, method = 'bilinear')\n",
    "dataset <- as.data.frame(pred.val)\n",
    "dataset$CLASS <- RD$Class"
   ]
  },
  {
   "cell_type": "code",
   "execution_count": null,
   "metadata": {},
   "outputs": [],
   "source": [
    "\n",
    "nc <- length(unique(dataset$CLASS)) #number of target classes\n",
    "c1 <- length(colnames(dataset)) #number of predictors\n",
    "sample <- rep(ceiling(0.75*min(table(dataset$CLASS))),nc)"
   ]
  },
  {
   "cell_type": "code",
   "execution_count": null,
   "metadata": {},
   "outputs": [],
   "source": [
    "\n",
    "subsets <- seq(2,ncol(dataset)-1,3)\n",
    "set.seed(1000)\n",
    "ctrl <- rfeControl(functions = rfFuncs,\n",
    "               method = \"repeatedcv\",\n",
    "               number = 10,\n",
    "               repeats = 5,\n",
    "               verbose = F)\n",
    "\n",
    "prProfile <- rfe(x=dataset[, c(1:ncol(dataset)-1)], y=as.factor(dataset$CLASS),\n",
    "                 sizes = subsets,\n",
    "                 rfeControl = ctrl)\n",
    "\n",
    "pr <- predictors(prProfile)[1: prProfile$bestSubset]"
   ]
  },
  {
   "cell_type": "code",
   "execution_count": null,
   "metadata": {},
   "outputs": [],
   "source": [
    "\n",
    "set.seed(1000)\n",
    "ctrl <- trainControl(method = \"repeatedcv\",number = 10, repeats = 5)\n",
    "dataset <- dataset[,c(pr,'CLASS')]\n",
    "\n",
    "mtry <- 1:sqrt(ncol(dataset))\n",
    "tunegrid <- expand.grid(.mtry=mtry)\n",
    "rfDownsampled <- train(as.factor(CLASS) ~ ., data = dataset,\n",
    "                         method = \"rf\",\n",
    "                         ntree = 1500,\n",
    "                         tuneGrid = tunegrid,\n",
    "                         metric = \"Accuracy\",\n",
    "                         strata = as.factor(dataset$CLASS),\n",
    "                         trControl = ctrl,\n",
    "                         sampsize = sample)"
   ]
  },
  {
   "cell_type": "code",
   "execution_count": null,
   "metadata": {},
   "outputs": [],
   "source": [
    "\n",
    "map <- predict(disaggregate(predictors, c(2,2), method = 'bilinear'),rfDownsampled)\n",
    "\n",
    "plot(map)\n",
    "writeRaster(map, './Data/Results/VegetationMap.tif',datatype = "
   ]
  },
  {
   "cell_type": "code",
   "execution_count": null,
   "metadata": {},
   "outputs": [],
   "source": [
    "\n",
    "writeRaster(map, './Data/Results/VegetationMap.tif',datatype = 'INT2S', overwrite=TRUE)\n",
    "\n",
    "write.table(rfDownsampled$results,dec =',','./Data/Results/TOPORes.txt')\n",
    "write.table(rfDownsampled$finalModel$confusion,dec =',', './Data/Result"
   ]
  }
 ],
 "metadata": {
  "kernelspec": {
   "display_name": "Python 3.10.8 64-bit (microsoft store)",
   "language": "python",
   "name": "python3"
  },
  "language_info": {
   "codemirror_mode": {
    "name": "ipython",
    "version": 3
   },
   "file_extension": ".py",
   "mimetype": "text/x-python",
   "name": "python",
   "nbconvert_exporter": "python",
   "pygments_lexer": "ipython3",
   "version": "3.10.8"
  },
  "orig_nbformat": 4,
  "vscode": {
   "interpreter": {
    "hash": "23f823caeccb1684f6bd50492b68bb5eab208de0408f39b2457c6a38c0e8e818"
   }
  }
 },
 "nbformat": 4,
 "nbformat_minor": 2
}
