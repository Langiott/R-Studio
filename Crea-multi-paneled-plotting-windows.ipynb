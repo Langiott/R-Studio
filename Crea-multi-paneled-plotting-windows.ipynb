{
 "cells": [
  {
   "cell_type": "code",
   "execution_count": null,
   "metadata": {},
   "outputs": [],
   "source": [
    "\n",
    "set.seed(5)\n",
    "x <- rnorm(200)\n",
    "y <- 25 - 22*x + 5*x^2 + rnorm(200)\n",
    "\n",
    "\n",
    "png(\"layout1.png\")\n",
    "par(mfrow=c(2,2))\n",
    "par(mar=c(0.5, 4.5, 0.5, 0.5))\n",
    "boxplot(x, horizontal=TRUE, axes=FALSE)\n",
    "plot(0, type=\"n\", xlab=\"\", ylab=\"\", axes=FALSE)\n",
    "par(mar=c(4.5, 4.5, 0.5, 0.5))\n",
    "plot(x, y)\n",
    "text(0.5, 85, \"par(mfrow)\", cex=2)\n",
    "par(mar=c(4.5, 0.5, 0.5, 0.5))\n",
    "boxplot(y, axes=FALSE)\n",
    "dev.off()\n",
    "\n",
    "png(\"layout2.png\")\n",
    "mat <- matrix(c(1,2,0,3), 2)\n",
    "mat\n",
    "layout(mat, c(3.5,1), c(1,3))\n",
    "par(mar=c(0.5, 4.5, 0.5, 0.5))\n",
    "boxplot(x, horizontal=TRUE, axes=FALSE)\n",
    "par(mar=c(4.5, 4.5, 0.5, 0.5))\n",
    "plot(x, y)\n",
    "text(0.5, 85, \"layout\", cex=2)\n",
    "par(mar=c(4.5, 0.5, 0.5, 0.5))\n",
    "boxplot(y, axes=FALSE)\n",
    "dev.off()"
   ]
  }
 ],
 "metadata": {
  "kernelspec": {
   "display_name": "Python 3.10.8 64-bit (microsoft store)",
   "language": "python",
   "name": "python3"
  },
  "language_info": {
   "name": "python",
   "version": "3.10.8"
  },
  "orig_nbformat": 4,
  "vscode": {
   "interpreter": {
    "hash": "23f823caeccb1684f6bd50492b68bb5eab208de0408f39b2457c6a38c0e8e818"
   }
  }
 },
 "nbformat": 4,
 "nbformat_minor": 2
}
