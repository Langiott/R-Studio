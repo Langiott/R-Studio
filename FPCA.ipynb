{
 "cells": [
  {
   "cell_type": "markdown",
   "metadata": {},
   "source": [
    "_______________"
   ]
  },
  {
   "cell_type": "markdown",
   "metadata": {},
   "source": [
    "##### FPCA.ipynb"
   ]
  },
  {
   "cell_type": "code",
   "execution_count": 2,
   "metadata": {},
   "outputs": [
    {
     "ename": "NameError",
     "evalue": "name 'library' is not defined",
     "output_type": "error",
     "traceback": [
      "\u001b[1;31m---------------------------------------------------------------------------\u001b[0m",
      "\u001b[1;31mNameError\u001b[0m                                 Traceback (most recent call last)",
      "Cell \u001b[1;32mIn [2], line 1\u001b[0m\n\u001b[1;32m----> 1\u001b[0m library(fdapace)\n\u001b[0;32m      2\u001b[0m library(raster)\n",
      "\u001b[1;31mNameError\u001b[0m: name 'library' is not defined"
     ]
    }
   ],
   "source": [
    "library(fdapace)\n",
    "library(raster)"
   ]
  },
  {
   "cell_type": "markdown",
   "metadata": {},
   "source": [
    "- **library()** : importo librerie "
   ]
  },
  {
   "cell_type": "code",
   "execution_count": null,
   "metadata": {},
   "outputs": [],
   "source": [
    "ts.file<- './Data/Time Series/TS_mcari.txt'\n",
    "ts <- t(read.delim(ts.file,header = T, sep = \" \", quote = \"\\\"\", dec = \".\"))"
   ]
  },
  {
   "cell_type": "markdown",
   "metadata": {},
   "source": [
    "\n",
    "- **ts.file** : è il nome della variabile (In R il punto non aggiunge  nessuna funzionalità)\n",
    "\n",
    "- **ts** : variabile nel quale metto il contenuto del file considerando i delimitatori\n",
    "\n",
    "- **'./Data/Time Series/TS_mcari.txt'** : percorso del file.txt\n",
    "\n",
    "- **read.delim()** : carico un file di dati tsv ,con valori separati da tab.\n",
    "\n",
    "     - **ts.file** : un persorso file\n",
    "\n",
    "     - **header** : Indica se la prima riga descrive i nomi delle colonne\n",
    "\n",
    "     - **sep**   : Il delimitatore di tabella , in questo caso \" \"\n",
    "\n",
    "     - **quot**  : Indica se i caratteri devono avere le virgolette scritte nel file"
   ]
  },
  {
   "cell_type": "code",
   "execution_count": null,
   "metadata": {},
   "outputs": [],
   "source": [
    "matplot(ts, type'1')"
   ]
  },
  {
   "cell_type": "markdown",
   "metadata": {},
   "source": [
    "\n",
    "- **matplot()** : plotta le colonne della matrice \n",
    "   - **ts**       : vettore con n-colonne e m-righe\n",
    "   - **type'1'**  : tipo di grafico \n"
   ]
  },
  {
   "cell_type": "code",
   "execution_count": null,
   "metadata": {},
   "outputs": [],
   "source": [
    "coord.file <- './Data/Time Series/Coord/coordinates_TS.txt'\n",
    "pixel.coord <- read.delim(coord.file,header = T, sep = \" \", quote = \"\\\""
   ]
  },
  {
   "cell_type": "markdown",
   "metadata": {},
   "source": [
    "- **coord.file** : Variabile percorso file.txt\n",
    "\n",
    "- **pixel.file** : Variabile dove viene letto il file considerando i delimitatori "
   ]
  },
  {
   "cell_type": "code",
   "execution_count": null,
   "metadata": {},
   "outputs": [],
   "source": [
    "tp<- dim(ts)\n",
    "tp1 <- tp[1]\n",
    "tp2 <- tp[2]\n",
    "\n",
    "dati<- as.vector(as.matrix((ts)))\n",
    "time <- as.numeric(rep(1:tp1, tp2))\n",
    "ID <- rep(1:tp2, each = tp1)\n",
    "per.fpca <- as.data.frame(cbind(ID, dati, time))\n",
    "\n",
    "ts.f <- MakeFPCAInputs(per.fpca$ID, per.fpca$time, per.fpca$dati)"
   ]
  },
  {
   "cell_type": "markdown",
   "metadata": {},
   "source": [
    "- **dati** : attributo n°1 della varibile per.fpca\n",
    "  - as.matrix(y) : Trasforma l'argomento y in un matrice \n",
    "  - as.vector(y) : Trasforma l'argomento y in un vettore\n",
    "  - as.vector(as.vector(y)) : trasforma Matrice in vettori riga\n",
    "\n",
    "- **time** : attributo n°2 della varibile per.fpca\n",
    "  - as.numeric(x) : Definisce argomento un valore numerico \n",
    "\n",
    "- **ID**  : attributo n°3 della varibile per.fpca\n",
    "  - rep() : ripete tutti i nemeri da 1 a tp1 each volte \n",
    "\n",
    "- **per.fpca** : Costruisco il DataFrame con tre parametri\n",
    "  - cbind() : unisce due matrici accostandole per colonna\n",
    "  - as.data.frame() : puo essere utilizzata per forzare una\n",
    "matrice [ID,dati,time] di dati ad un dataframe\n",
    "\n",
    "- **MakeFPCAInputs(ID,tempoVettore,dativettore)** :\n",
    "  - per.fpca$ID : assegna attributo Id a per.fpca\n",
    "  - per.fpca$time : assegna attributo Id a per.fpca\n",
    "  - per.fpca$dati : assegna attributo Id a per.fpca\n"
   ]
  },
  {
   "cell_type": "code",
   "execution_count": null,
   "metadata": {},
   "outputs": [],
   "source": [
    "fpcaObjTS <- FPCA(ts.f$Ly, ts.f$Lt,list(methodXi='IN', methodMuCovEst = 'smooth', userBwCov = 2, kernel= 'gauss',FVEthreshold=0.999))"
   ]
  },
  {
   "cell_type": "markdown",
   "metadata": {},
   "source": [
    "- **fpcaObjTS** : Varibile Object contenete curve di Fpca\n",
    "  - FPCA() : funzione che calcola le uscite FPCA \n",
    "  - ts.f$Ly : dati sulla cuva da costrure\n",
    "  - ts.f$Lt : tempo di campinamento curva\n",
    "  - list (): produce una lista con parametri vari\n"
   ]
  },
  {
   "cell_type": "code",
   "execution_count": null,
   "metadata": {},
   "outputs": [],
   "source": [
    "plot(fpcaObjTS) \n",
    "CreateScreePlot(fpcaObjTS) \n",
    "round((fpcaObjTS$lambda/sum(fpcaObjTS$lambda))*100,3)\n",
    "round(cumsum(fpcaObjTS$lambda/sum(fpcaObjTS$lambda))*100,3)"
   ]
  },
  {
   "cell_type": "markdown",
   "metadata": {},
   "source": [
    "- **plot()** : plotto risulato fpcaObjTS\n",
    "- **CreateScreePlot** : funzione particolare di package FPCA\n",
    "- **round()** : arrotonda il numero\n",
    "- **fpcaObjTS$lambda** : autovalori dei fpca"
   ]
  },
  {
   "cell_type": "code",
   "execution_count": null,
   "metadata": {},
   "outputs": [],
   "source": [
    "CreateModeOfVarPlot(fpcaObjTS,k = 1, rainbowPlot = TRUE,col= c( \"blue\",\"white\",\"red\"))#"
   ]
  },
  {
   "cell_type": "markdown",
   "metadata": {},
   "source": [
    "- **CreateModeofVarPlot** :funzione particolare di package FPCA"
   ]
  },
  {
   "cell_type": "code",
   "execution_count": null,
   "metadata": {},
   "outputs": [],
   "source": [
    "FPCA.scores <- fpcaObjTS$xiEst\n",
    "FPCA.scores.coord <- cbind(pixel.coord,FPCA.scores)\n",
    "FPCA.comp.rast <- rasterFromXYZ(FPCA.scores.coord) \n",
    "plot(FPCA.comp.rast[[1]])"
   ]
  },
  {
   "cell_type": "markdown",
   "metadata": {},
   "source": [
    "- **FPCA.scores** :Gli assegna un attributo $xiEst di fpcaObjTS\n",
    "- **FPCA.scores.coord** : contiene due matrici [pixel.coord,FPCA.scores]\n",
    "- **FPCA.comp.rast** : varibile \n",
    "  - rasterFromXYZ(V) : crea un oggetto definito da xyz. V è una matrice\n",
    "- **plot(FPCA.comp.rast[[1]])** : stampa la prima componete objxyz\n"
   ]
  },
  {
   "cell_type": "code",
   "execution_count": null,
   "metadata": {},
   "outputs": [],
   "source": [
    "k=1 \n",
    "par(mfrow=c(1,2))\n",
    "CreateModeOfVarPlot(fpcaObjTS,k = k, rainbowPlot = TRUE,col= c( \"blue\",\"white\",\"red\"))\n",
    "plot(FPCA.comp.rast[[k]],col=colorRampPalette(c(\"blue\", \"white\", \"red\"))(255))"
   ]
  },
  {
   "cell_type": "code",
   "execution_count": null,
   "metadata": {},
   "outputs": [],
   "source": []
  },
  {
   "cell_type": "markdown",
   "metadata": {},
   "source": [
    "- **par()** : \n",
    "- **par(mfrow)** :Crea una finestra di stampa a più pannelli\n",
    "  - **mfrow** : Un vettore di lunghezza 2, in cui il primo argomento specifica il numero di righe e il secondo il numero di colonne di grafici\n",
    "- **layout(mat, larghezze=rep(1, ncol(mat)), heights=rep(1, ncol(mat)))**\n",
    "  - mat : Una matrice che descrive il layout del pannello, dove i numeri descrivono l'ordine in cui aggiungere i grafici. Una voce zero viene interpretata come non tracciare nulla qui .\n",
    "  - larghezze : le larghezze delle colonne del pannello.\n",
    "  - heights : Le altezze delle righe del pannello.\n",
    "\n",
    "  http://rfunction.com/archives/1538"
   ]
  },
  {
   "cell_type": "code",
   "execution_count": null,
   "metadata": {},
   "outputs": [],
   "source": [
    "crs(FPCA.comp.rast) <- \"EPSG:32633\"\n",
    "writeRaster(FPCA.comp.rast, \"./Data/Predictors/_tmpc_MCARI_FPCs"
   ]
  },
  {
   "cell_type": "markdown",
   "metadata": {},
   "source": [
    "- **crs()** : Coordinate Reference Systems\n",
    "\n",
    " proj4string(x) <- CRS(\"+init=epsg:28992\")\n",
    " \n",
    "- **ESPSG** : I sistemi di riferimenti sono codificati da ESPSG\n",
    "- **writeRaster()** :scrive dati raster (FPCA.comp.rast) su un file\n"
   ]
  },
  {
   "cell_type": "markdown",
   "metadata": {},
   "source": [
    "____"
   ]
  }
 ],
 "metadata": {
  "kernelspec": {
   "display_name": "Python 3.10.8 64-bit (microsoft store)",
   "language": "python",
   "name": "python3"
  },
  "language_info": {
   "codemirror_mode": {
    "name": "ipython",
    "version": 3
   },
   "file_extension": ".py",
   "mimetype": "text/x-python",
   "name": "python",
   "nbconvert_exporter": "python",
   "pygments_lexer": "ipython3",
   "version": "3.10.8"
  },
  "orig_nbformat": 4,
  "vscode": {
   "interpreter": {
    "hash": "23f823caeccb1684f6bd50492b68bb5eab208de0408f39b2457c6a38c0e8e818"
   }
  }
 },
 "nbformat": 4,
 "nbformat_minor": 2
}
